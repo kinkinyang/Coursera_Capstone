{
 "cells": [
  {
   "cell_type": "code",
   "execution_count": 52,
   "metadata": {},
   "outputs": [
    {
     "name": "stdout",
     "output_type": "stream",
     "text": [
      "103\n"
     ]
    }
   ],
   "source": [
    "import urllib.request,re, os\n",
    "import pandas as pd\n",
    "from bs4 import BeautifulSoup\n",
    "\n",
    "#Use BeautifulSoup to scrap data from the wiki page\n",
    "# read the page content to the_page\n",
    "url = 'https://en.wikipedia.org/wiki/List_of_postal_codes_of_Canada:_M'\n",
    "req = urllib.request.Request(url)\n",
    "with urllib.request.urlopen(req) as response:\n",
    "     the_page = response.read()     \n",
    "soup=BeautifulSoup(the_page,'html.parser')\n",
    "\n",
    "#parse each table cells into list : lst_origin_data\n",
    "lst_origin_data = []\n",
    "table = soup.find('table', attrs={'class':'wikitable'})\n",
    "table_body = table.find('tbody')\n",
    "rows = table_body.find_all('tr')\n",
    "for row in rows:\n",
    "    cols = row.find_all('td')\n",
    "    cols = [ele.text.strip() for ele in cols]\n",
    "    lst_origin_data.append([ele for ele in cols if ele]) # Get rid of empty values\n",
    "\n",
    "#process the data with Not assigned value accordingly and store into dictionary with keys : dict_valid_data\n",
    "dict_valid_data = dict()\n",
    "for index,cell in enumerate(lst_origin_data):\n",
    "    if cell:\n",
    "        t_postcode=cell[0]\n",
    "        t_borough=cell[1]\n",
    "        t_neighborhood=cell[2]\n",
    "        if not t_borough == \"Not assigned\":           #only process data with borough assigned\n",
    "            if t_neighborhood == \"Not assigned\":      #assign borough to neighborhood if neighborhood is not assigned\n",
    "                t_neighborhood = t_borough\n",
    "            dict_valid_data.update({\n",
    "                t_postcode:{\n",
    "                    'Borough':t_borough,\n",
    "                    'Neighborhood':(dict_valid_data[t_postcode]['Neighborhood']+\n",
    "                                    ','+t_neighborhood \n",
    "                                    if t_postcode in dict_valid_data \n",
    "                                    else t_neighborhood)\n",
    "                }})                                   #update neighborhood for multiple neighborhoods\n",
    "            \n",
    "\n",
    "print(len(dict_valid_data))\n",
    "#dict_valid_data\n"
   ]
  },
  {
   "cell_type": "code",
   "execution_count": 53,
   "metadata": {},
   "outputs": [
    {
     "name": "stdout",
     "output_type": "stream",
     "text": [
      "(103, 3)\n"
     ]
    },
    {
     "data": {
      "text/html": [
       "<div>\n",
       "<style scoped>\n",
       "    .dataframe tbody tr th:only-of-type {\n",
       "        vertical-align: middle;\n",
       "    }\n",
       "\n",
       "    .dataframe tbody tr th {\n",
       "        vertical-align: top;\n",
       "    }\n",
       "\n",
       "    .dataframe thead th {\n",
       "        text-align: right;\n",
       "    }\n",
       "</style>\n",
       "<table border=\"1\" class=\"dataframe\">\n",
       "  <thead>\n",
       "    <tr style=\"text-align: right;\">\n",
       "      <th></th>\n",
       "      <th>PostCode</th>\n",
       "      <th>Borough</th>\n",
       "      <th>Neighborhood</th>\n",
       "    </tr>\n",
       "  </thead>\n",
       "  <tbody>\n",
       "    <tr>\n",
       "      <th>0</th>\n",
       "      <td>M3A</td>\n",
       "      <td>North York</td>\n",
       "      <td>Parkwoods</td>\n",
       "    </tr>\n",
       "    <tr>\n",
       "      <th>1</th>\n",
       "      <td>M4A</td>\n",
       "      <td>North York</td>\n",
       "      <td>Victoria Village</td>\n",
       "    </tr>\n",
       "    <tr>\n",
       "      <th>2</th>\n",
       "      <td>M5A</td>\n",
       "      <td>Downtown Toronto</td>\n",
       "      <td>Harbourfront</td>\n",
       "    </tr>\n",
       "    <tr>\n",
       "      <th>3</th>\n",
       "      <td>M6A</td>\n",
       "      <td>North York</td>\n",
       "      <td>Lawrence Heights,Lawrence Manor</td>\n",
       "    </tr>\n",
       "    <tr>\n",
       "      <th>4</th>\n",
       "      <td>M7A</td>\n",
       "      <td>Downtown Toronto</td>\n",
       "      <td>Queen's Park</td>\n",
       "    </tr>\n",
       "  </tbody>\n",
       "</table>\n",
       "</div>"
      ],
      "text/plain": [
       "  PostCode           Borough                     Neighborhood\n",
       "0      M3A        North York                        Parkwoods\n",
       "1      M4A        North York                 Victoria Village\n",
       "2      M5A  Downtown Toronto                     Harbourfront\n",
       "3      M6A        North York  Lawrence Heights,Lawrence Manor\n",
       "4      M7A  Downtown Toronto                     Queen's Park"
      ]
     },
     "execution_count": 53,
     "metadata": {},
     "output_type": "execute_result"
    }
   ],
   "source": [
    "#conver the dictionary dict_valid_data to DataFrame: df\n",
    "df=pd.DataFrame.from_dict(dict_valid_data,orient='index')\n",
    "df.reset_index(inplace=True)\n",
    "df.rename(columns={'index':'PostCode'},inplace=True)\n",
    "print(df.shape)\n",
    "df.head()"
   ]
  }
 ],
 "metadata": {
  "kernelspec": {
   "display_name": "Python 3",
   "language": "python",
   "name": "python3"
  },
  "language_info": {
   "codemirror_mode": {
    "name": "ipython",
    "version": 3
   },
   "file_extension": ".py",
   "mimetype": "text/x-python",
   "name": "python",
   "nbconvert_exporter": "python",
   "pygments_lexer": "ipython3",
   "version": "3.7.5"
  }
 },
 "nbformat": 4,
 "nbformat_minor": 4
}
